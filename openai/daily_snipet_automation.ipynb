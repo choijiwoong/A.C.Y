{
  "nbformat": 4,
  "nbformat_minor": 0,
  "metadata": {
    "colab": {
      "provenance": []
    },
    "kernelspec": {
      "name": "python3",
      "display_name": "Python 3"
    },
    "language_info": {
      "name": "python"
    }
  },
  "cells": [
    {
      "cell_type": "code",
      "execution_count": 1,
      "metadata": {
        "colab": {
          "base_uri": "https://localhost:8080/"
        },
        "id": "t2hNb2qIcyrk",
        "outputId": "d464bc72-5ed2-4912-9cc3-b7257a38d99c"
      },
      "outputs": [
        {
          "output_type": "stream",
          "name": "stdout",
          "text": [
            "Requirement already satisfied: openai in /usr/local/lib/python3.11/dist-packages (1.70.0)\n",
            "Requirement already satisfied: anyio<5,>=3.5.0 in /usr/local/lib/python3.11/dist-packages (from openai) (4.9.0)\n",
            "Requirement already satisfied: distro<2,>=1.7.0 in /usr/local/lib/python3.11/dist-packages (from openai) (1.9.0)\n",
            "Requirement already satisfied: httpx<1,>=0.23.0 in /usr/local/lib/python3.11/dist-packages (from openai) (0.28.1)\n",
            "Requirement already satisfied: jiter<1,>=0.4.0 in /usr/local/lib/python3.11/dist-packages (from openai) (0.9.0)\n",
            "Requirement already satisfied: pydantic<3,>=1.9.0 in /usr/local/lib/python3.11/dist-packages (from openai) (2.11.2)\n",
            "Requirement already satisfied: sniffio in /usr/local/lib/python3.11/dist-packages (from openai) (1.3.1)\n",
            "Requirement already satisfied: tqdm>4 in /usr/local/lib/python3.11/dist-packages (from openai) (4.67.1)\n",
            "Requirement already satisfied: typing-extensions<5,>=4.11 in /usr/local/lib/python3.11/dist-packages (from openai) (4.13.1)\n",
            "Requirement already satisfied: idna>=2.8 in /usr/local/lib/python3.11/dist-packages (from anyio<5,>=3.5.0->openai) (3.10)\n",
            "Requirement already satisfied: certifi in /usr/local/lib/python3.11/dist-packages (from httpx<1,>=0.23.0->openai) (2025.1.31)\n",
            "Requirement already satisfied: httpcore==1.* in /usr/local/lib/python3.11/dist-packages (from httpx<1,>=0.23.0->openai) (1.0.7)\n",
            "Requirement already satisfied: h11<0.15,>=0.13 in /usr/local/lib/python3.11/dist-packages (from httpcore==1.*->httpx<1,>=0.23.0->openai) (0.14.0)\n",
            "Requirement already satisfied: annotated-types>=0.6.0 in /usr/local/lib/python3.11/dist-packages (from pydantic<3,>=1.9.0->openai) (0.7.0)\n",
            "Requirement already satisfied: pydantic-core==2.33.1 in /usr/local/lib/python3.11/dist-packages (from pydantic<3,>=1.9.0->openai) (2.33.1)\n",
            "Requirement already satisfied: typing-inspection>=0.4.0 in /usr/local/lib/python3.11/dist-packages (from pydantic<3,>=1.9.0->openai) (0.4.0)\n"
          ]
        }
      ],
      "source": [
        "pip install openai"
      ]
    },
    {
      "cell_type": "code",
      "source": [
        "#Module import\n",
        "from openai import OpenAI\n",
        "\n",
        "# Hyperparameter\n",
        "acy_key=\"\"\n",
        "model=\"gpt-4o-mini\"\n",
        "role=\"user\"\n",
        "\n",
        "# Client 생성\n",
        "client = OpenAI(\n",
        "  api_key=acy_key\n",
        ")\n",
        "\n",
        "# 테스트 이후 함수 정의\n",
        "def get_completion(prompt, model=model, role=role):\n",
        "  response = client.chat.completions.create(\n",
        "    model=model,\n",
        "    store=True,\n",
        "    messages=[\n",
        "      {\"role\": role, \"content\": prompt}\n",
        "    ]\n",
        "  )\n",
        "  return response.choices[0].message.content"
      ],
      "metadata": {
        "id": "NVSxi7xrc0cX"
      },
      "execution_count": 2,
      "outputs": []
    },
    {
      "cell_type": "code",
      "source": [
        "from google.colab import drive\n",
        "drive.mount(\"/content/drive\")#, force_remount=True)\n",
        "%cd \"/content/drive/My Drive/2. A.C.Y.(안성환, 명유경, 최지웅)/920. Daily Snippet(Scrum)/\"\n",
        "!pwd\n",
        "!ls"
      ],
      "metadata": {
        "colab": {
          "base_uri": "https://localhost:8080/"
        },
        "id": "zEUJMo-Pc1sW",
        "outputId": "76a11fb4-de89-4c2e-eb8d-899fe5bebb7a"
      },
      "execution_count": 3,
      "outputs": [
        {
          "output_type": "stream",
          "name": "stdout",
          "text": [
            "Mounted at /content/drive\n",
            "/content/drive/.shortcut-targets-by-id/1QqbbmvT7C6fsHG5AXsoM357NDoK4DmPE/2. A.C.Y.(안성환, 명유경, 최지웅)/920. Daily Snippet(Scrum)\n",
            "/content/drive/.shortcut-targets-by-id/1QqbbmvT7C6fsHG5AXsoM357NDoK4DmPE/2. A.C.Y.(안성환, 명유경, 최지웅)/920. Daily Snippet(Scrum)\n",
            "'2025 GCS 6기 A.C.Y.팀 Daily Snipet.gdoc'\n",
            "'2025 GCS 6기 A.C.Y. 팀 Monthly Snipet.gdoc'\n",
            "'2025 GCS 6기 A.C.Y. 팀 Weekly Snipet.gdoc'\n"
          ]
        }
      ]
    },
    {
      "cell_type": "code",
      "source": [
        "from datetime import datetime\n",
        "import openai\n",
        "from googleapiclient.discovery import build\n",
        "from google.oauth2 import service_account\n",
        "\n",
        "# --- OpenAI 설정 ---\n",
        "#openai.api_key = \"sk-...\"  # ← 본인의 API 키로 설정하세요\n",
        "#model = \"gpt-4o\"\n",
        "#role = \"user\"\n",
        "\n",
        "def get_completion(prompt, extra_instruction, model=model, role=role):\n",
        "    full_prompt = f\"{prompt}\\n\\n[요청사항]\\n{extra_instruction}\"\n",
        "    response = openai.ChatCompletion.create(\n",
        "        model=model,\n",
        "        messages=[{\"role\": role, \"content\": full_prompt}]\n",
        "    )\n",
        "    return response.choices[0].message.content\n",
        "\n",
        "# --- Google Docs 설정 ---\n",
        "SCOPES = ['https://www.googleapis.com/auth/documents']\n",
        "SERVICE_ACCOUNT_FILE = '/content/drive/My Drive/acy.json'\n",
        "\n",
        "creds = service_account.Credentials.from_service_account_file(\n",
        "    SERVICE_ACCOUNT_FILE, scopes=SCOPES)\n",
        "docs_service = build('docs', 'v1', credentials=creds)\n",
        "\n",
        "DOCUMENT_ID = '1o'\n",
        "\n",
        "# 날짜 변환 함수 (\"2025-04-14\" → \"25.04.14\")\n",
        "def convert_date_for_snippet(iso_date: str) -> str:\n",
        "    d = datetime.strptime(iso_date, \"%Y-%m-%d\")\n",
        "    return d.strftime(\"25.%m.%d\")\n",
        "\n",
        "# 메인 함수\n",
        "def generate_daily_feedback(date=datetime.today().strftime(\"%Y-%m-%d\"),\n",
        "                            instruction=\"오늘 내용에 대한 칭찬과 개선 피드백을 부탁드립니다.\"):\n",
        "\n",
        "    converted_date = convert_date_for_snippet(date)\n",
        "    doc = docs_service.documents().get(documentId=DOCUMENT_ID).execute()\n",
        "    content = doc.get('body').get('content')\n",
        "\n",
        "    team_snippets = {\"성환\": \"\", \"유경\": \"\", \"지웅\": \"\"}\n",
        "    current_person = None\n",
        "    capture = False\n",
        "\n",
        "    for item in content:\n",
        "        if 'paragraph' in item:\n",
        "            elements = item['paragraph']['elements']\n",
        "            text = ''.join([e.get('textRun', {}).get('content', '') for e in elements]).strip()\n",
        "\n",
        "            # 문서 탭 이름이 나오면 섹션 전환\n",
        "            if text in team_snippets:\n",
        "                current_person = text\n",
        "                capture = False  # 초기화\n",
        "                continue\n",
        "\n",
        "            # 날짜 감지 → 해당 섹션 시작\n",
        "            if current_person and converted_date in text:\n",
        "                capture = True\n",
        "                team_snippets[current_person] += text + \"\\n\"\n",
        "                continue\n",
        "\n",
        "            if capture and current_person:\n",
        "                team_snippets[current_person] += text + \"\\n\"\n",
        "\n",
        "    # GPT 피드백 요청\n",
        "    feedback_results = {}\n",
        "    for member, snippet in team_snippets.items():\n",
        "        if snippet:\n",
        "            print(f\"🔍 {member} 내용 분석 중...\")\n",
        "            feedback = get_completion(snippet, instruction)\n",
        "            feedback_results[member] = feedback\n",
        "\n",
        "    # 결과 출력\n",
        "    for member, feedback in feedback_results.items():\n",
        "        print(f\"\\n💬 {member}에 대한 GPT 피드백:\\n{feedback}\\n\")\n",
        "\n",
        "    return feedback_results\n",
        "\n"
      ],
      "metadata": {
        "id": "JUcmqM3fc2y7"
      },
      "execution_count": 4,
      "outputs": []
    },
    {
      "cell_type": "code",
      "source": [
        "# 실행 예시\n",
        "generate_daily_feedback(\"2025-04-14\", \"피드백은 구체적으로, 단점은 부드럽게 표현해주세요.\")\n"
      ],
      "metadata": {
        "colab": {
          "base_uri": "https://localhost:8080/"
        },
        "id": "NYnUG3YGglXh",
        "outputId": "4956c5e8-af46-40d5-9438-f21caa1b2e04"
      },
      "execution_count": 5,
      "outputs": [
        {
          "output_type": "execute_result",
          "data": {
            "text/plain": [
              "{}"
            ]
          },
          "metadata": {},
          "execution_count": 5
        }
      ]
    }
  ]
}