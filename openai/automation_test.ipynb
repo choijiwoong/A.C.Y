{
  "nbformat": 4,
  "nbformat_minor": 0,
  "metadata": {
    "colab": {
      "provenance": []
    },
    "kernelspec": {
      "name": "python3",
      "display_name": "Python 3"
    },
    "language_info": {
      "name": "python"
    }
  },
  "cells": [
    {
      "cell_type": "code",
      "execution_count": 5,
      "metadata": {
        "colab": {
          "base_uri": "https://localhost:8080/"
        },
        "id": "pMDuer0aD_L4",
        "outputId": "59b91714-8052-4a4f-91af-eb4004b1bc4a"
      },
      "outputs": [
        {
          "output_type": "stream",
          "name": "stdout",
          "text": [
            "Requirement already satisfied: openai in /usr/local/lib/python3.11/dist-packages (1.70.0)\n",
            "Requirement already satisfied: anyio<5,>=3.5.0 in /usr/local/lib/python3.11/dist-packages (from openai) (4.9.0)\n",
            "Requirement already satisfied: distro<2,>=1.7.0 in /usr/local/lib/python3.11/dist-packages (from openai) (1.9.0)\n",
            "Requirement already satisfied: httpx<1,>=0.23.0 in /usr/local/lib/python3.11/dist-packages (from openai) (0.28.1)\n",
            "Requirement already satisfied: jiter<1,>=0.4.0 in /usr/local/lib/python3.11/dist-packages (from openai) (0.9.0)\n",
            "Requirement already satisfied: pydantic<3,>=1.9.0 in /usr/local/lib/python3.11/dist-packages (from openai) (2.11.2)\n",
            "Requirement already satisfied: sniffio in /usr/local/lib/python3.11/dist-packages (from openai) (1.3.1)\n",
            "Requirement already satisfied: tqdm>4 in /usr/local/lib/python3.11/dist-packages (from openai) (4.67.1)\n",
            "Requirement already satisfied: typing-extensions<5,>=4.11 in /usr/local/lib/python3.11/dist-packages (from openai) (4.13.1)\n",
            "Requirement already satisfied: idna>=2.8 in /usr/local/lib/python3.11/dist-packages (from anyio<5,>=3.5.0->openai) (3.10)\n",
            "Requirement already satisfied: certifi in /usr/local/lib/python3.11/dist-packages (from httpx<1,>=0.23.0->openai) (2025.1.31)\n",
            "Requirement already satisfied: httpcore==1.* in /usr/local/lib/python3.11/dist-packages (from httpx<1,>=0.23.0->openai) (1.0.7)\n",
            "Requirement already satisfied: h11<0.15,>=0.13 in /usr/local/lib/python3.11/dist-packages (from httpcore==1.*->httpx<1,>=0.23.0->openai) (0.14.0)\n",
            "Requirement already satisfied: annotated-types>=0.6.0 in /usr/local/lib/python3.11/dist-packages (from pydantic<3,>=1.9.0->openai) (0.7.0)\n",
            "Requirement already satisfied: pydantic-core==2.33.1 in /usr/local/lib/python3.11/dist-packages (from pydantic<3,>=1.9.0->openai) (2.33.1)\n",
            "Requirement already satisfied: typing-inspection>=0.4.0 in /usr/local/lib/python3.11/dist-packages (from pydantic<3,>=1.9.0->openai) (0.4.0)\n"
          ]
        }
      ],
      "source": [
        "pip install openai"
      ]
    },
    {
      "cell_type": "code",
      "source": [
        "#Module import\n",
        "from openai import OpenAI\n",
        "\n",
        "# Hyperparameter\n",
        "acy_key=\"\"#\n",
        "model=\"gpt-4o-mini\"\n",
        "role=\"user\"\n",
        "\n",
        "# Client 생성\n",
        "client = OpenAI(\n",
        "  api_key=acy_key\n",
        ")\n",
        "\n",
        "# 테스트 이후 함수 정의\n",
        "def get_completion(prompt, model=model, role=role):\n",
        "  response = client.chat.completions.create(\n",
        "    model=model,\n",
        "    store=True,\n",
        "    messages=[\n",
        "      {\"role\": role, \"content\": prompt}\n",
        "    ]\n",
        "  )\n",
        "  return response.choices[0].message.content"
      ],
      "metadata": {
        "id": "A9h6d4JWEFOz"
      },
      "execution_count": 6,
      "outputs": []
    },
    {
      "cell_type": "code",
      "source": [
        "prompt = \"안녕!\"\n",
        "response = get_completion(prompt)\n",
        "print(response)"
      ],
      "metadata": {
        "colab": {
          "base_uri": "https://localhost:8080/"
        },
        "id": "b5fbi-cgENYD",
        "outputId": "31c8293c-a233-4b73-c6cd-7e2e8885b90f"
      },
      "execution_count": 7,
      "outputs": [
        {
          "output_type": "stream",
          "name": "stdout",
          "text": [
            "안녕하세요! 어떻게 도와드릴까요?\n"
          ]
        }
      ]
    },
    {
      "cell_type": "code",
      "source": [
        "from google.colab import drive\n",
        "drive.mount(\"/content/drive\")#, force_remount=True)\n",
        "%cd \"/content/drive/My Drive/2. A.C.Y.(안성환, 명유경, 최지웅)/920. Daily Snippet(Scrum)/\"\n",
        "!pwd\n",
        "!ls"
      ],
      "metadata": {
        "colab": {
          "base_uri": "https://localhost:8080/"
        },
        "id": "WnTlWqzjG7yB",
        "outputId": "1389ef71-b08c-4356-e48f-cec0e1cd2a16"
      },
      "execution_count": 18,
      "outputs": [
        {
          "output_type": "stream",
          "name": "stdout",
          "text": [
            "Drive already mounted at /content/drive; to attempt to forcibly remount, call drive.mount(\"/content/drive\", force_remount=True).\n",
            "/content/drive/.shortcut-targets-by-id/1QqbbmvT7C6fsHG5AXsoM357NDoK4DmPE/2. A.C.Y.(안성환, 명유경, 최지웅)/920. Daily Snippet(Scrum)\n",
            "/content/drive/.shortcut-targets-by-id/1QqbbmvT7C6fsHG5AXsoM357NDoK4DmPE/2. A.C.Y.(안성환, 명유경, 최지웅)/920. Daily Snippet(Scrum)\n",
            "'2025 GCS 6기 A.C.Y.팀 Daily Snipet.gdoc'\n",
            "'2025 GCS 6기 A.C.Y. 팀 Monthly Snipet.gdoc'\n",
            "'2025 GCS 6기 A.C.Y. 팀 Weekly Snipet.gdoc'\n"
          ]
        }
      ]
    },
    {
      "cell_type": "code",
      "source": [],
      "metadata": {
        "id": "fgCx6dPyHSw1"
      },
      "execution_count": 4,
      "outputs": []
    }
  ]
}